{
 "metadata": {
  "name": "",
  "signature": "sha256:da4722b3d6165e58bfeab4067e886ce2be5a85e50a05d023f5f9f37d35f941e0"
 },
 "nbformat": 3,
 "nbformat_minor": 0,
 "worksheets": [
  {
   "cells": [
    {
     "cell_type": "markdown",
     "metadata": {},
     "source": [
      "# Documenting\n",
      "\n",
      "If we want our package to be used by others, or simply wish to go back to our code after a few days,\n",
      "we really need to have some reasonable documentation.\n",
      "\n",
      "## Docstrings\n",
      "\n",
      "Python encourages the use of in-situ documentation in the form of docstrings. Docstrings are simply standalone strings after the definition of functions/classes/etc.:"
     ]
    },
    {
     "cell_type": "code",
     "collapsed": false,
     "input": [
      "def add(a, b):\n",
      "    \"\"\"This is my addition function which adds two numbers together.\"\"\"\n",
      "    return a + b"
     ],
     "language": "python",
     "metadata": {},
     "outputs": []
    },
    {
     "cell_type": "markdown",
     "metadata": {},
     "source": [
      "Python's built-in ``help`` function can then be used to display the help:"
     ]
    },
    {
     "cell_type": "code",
     "collapsed": false,
     "input": [
      "help(add)"
     ],
     "language": "python",
     "metadata": {},
     "outputs": []
    },
    {
     "cell_type": "markdown",
     "metadata": {},
     "source": [
      "Similarly, IPython can also be used to view docstrings:"
     ]
    },
    {
     "cell_type": "code",
     "collapsed": false,
     "input": [
      "add?"
     ],
     "language": "python",
     "metadata": {},
     "outputs": []
    },
    {
     "cell_type": "markdown",
     "metadata": {},
     "source": [
      "### Writing good docstrings\n",
      "\n",
      "Writing good documentation takes practice and time, but done well it can speed up development and make your code more maintainable.\n",
      "\n",
      "[numpydoc](https://github.com/numpy/numpy/blob/master/doc/HOWTO_DOCUMENT.rst.txt) is a set of recommendations on how to write and layout your docstrings such that they are consistent and easily understandable to fellow scientific Python users. Our ``add`` function's docstring, when following the numpydoc guidelines, might looks something like:"
     ]
    },
    {
     "cell_type": "code",
     "collapsed": false,
     "input": [
      "def add(a, b):\n",
      "    \"\"\"\n",
      "    Add two values together.\n",
      "\n",
      "    Parameters\n",
      "    ----------\n",
      "    a : object\n",
      "        The left hand of the addition.\n",
      "    b : object\n",
      "        The right hand of the addition.\n",
      "    \n",
      "    Returns\n",
      "    -------\n",
      "    result : object\n",
      "        The result of doing ``a + b``.\n",
      "\n",
      "    Examples\n",
      "    --------\n",
      "    >>> add(0.5, 1.5)\n",
      "    2.0\n",
      "    \"\"\"\n",
      "    return a + b"
     ],
     "language": "python",
     "metadata": {},
     "outputs": []
    },
    {
     "cell_type": "markdown",
     "metadata": {},
     "source": [
      "### Using sphinx to generate web based documentation\n",
      "\n",
      "Sphinx is a Python package to generate web pages (as well as PDF & more) for your documentation. Python's own documentation is generated with sphinx, with the docstrings of functions/classes/etc. extracted directly from the source to avoid duplicating the information.\n",
      "\n",
      "We can create basic sphinx documentation very quickly with the ``sphinx-quickstart`` command line tool.\n",
      "\n",
      "Let's do that by going to ``tutorial_classroom`` and making the root directory \"docs\":\n",
      "\n",
      "    cd tutorial_classroom\n",
      "    sphinx-quickstart docs\n",
      "   \n",
      "To create the documentation, let's run ``make html`` from within the docs:"
     ]
    },
    {
     "cell_type": "code",
     "collapsed": false,
     "input": [
      "%cd tutorial_classroom\n",
      "%cd docs"
     ],
     "language": "python",
     "metadata": {},
     "outputs": []
    },
    {
     "cell_type": "code",
     "collapsed": false,
     "input": [
      "!make html\n",
      "!open build/html/index.html"
     ],
     "language": "python",
     "metadata": {},
     "outputs": []
    },
    {
     "cell_type": "markdown",
     "metadata": {},
     "source": [
      "Notice how a config file has been created in source/conf.py:"
     ]
    },
    {
     "cell_type": "code",
     "collapsed": false,
     "input": [
      "%ls source"
     ],
     "language": "python",
     "metadata": {},
     "outputs": []
    },
    {
     "cell_type": "markdown",
     "metadata": {},
     "source": [
      "This config file is were details about our project are stored - things like project name, version, author etc. as well as information about the layout and style of the documentation itself.\n",
      "\n",
      "Let's update the theme of the documentation by changing the config file's ``html_theme`` value from ``default`` to ``sphinxdoc``, and re-build the documentation to see the effect."
     ]
    },
    {
     "cell_type": "markdown",
     "metadata": {},
     "source": [
      "You will notice that currently we do not have any documentation for the functions in classroom in our built docs. This is because sphinx has been designed for a semi-manual documentation approach. To automatically pull in the documentation for our classroom module, we should enable the ``'sphinx.ext.autodoc'`` extension in the ``conf.py`` configuration, and add\n",
      "\n",
      "    .. automodule:: classroom\n",
      "        :members:\n",
      "        :undoc-members:\n",
      "    \n",
      "To the restructured text in ``index.rst``. This tells sphinx to pull in all of the documentation from the classroom module, including functions which do not have docstrings defined. More information about the [automodule (and other ``auto*`` directives)](http://sphinx-doc.org/ext/autodoc.html) is available on the sphinx documentation.\n",
      "\n",
      "\n",
      "Let's create a new ``euroscipy_2014.rst`` file with for this tutorial, and link to it from the TOC (table of contents) of ``index.rst``."
     ]
    },
    {
     "cell_type": "markdown",
     "metadata": {},
     "source": [
      "**Exercise:**\n",
      "\n",
      "We have previously created the ``euroscipy_2014.rst`` file by hand, now that we have our interface to access the classroom data, programmatically generate the rst file and put it in the documentation source."
     ]
    },
    {
     "cell_type": "markdown",
     "metadata": {},
     "source": [
      "# Full repository\n",
      "\n",
      "A full repository of the classroom package, complete with tests and documentation, can be found in the full_package branch of https://github.com/pelson/tutorial_classroom."
     ]
    },
    {
     "cell_type": "markdown",
     "metadata": {},
     "source": [
      "### Navigation\n",
      "\n",
      "[Intro](00_intro.ipynb) | [Previous](04_testing.ipynb)\n",
      "\n",
      "\n",
      "\n",
      "-----------\n",
      "<br><br><br><br><br><br><br><br><br><br><br><br><br><br><br><br><br><br><br><br>\n"
     ]
    },
    {
     "cell_type": "code",
     "collapsed": false,
     "input": [
      "%run resources/load_style.py"
     ],
     "language": "python",
     "metadata": {},
     "outputs": [
      {
       "html": [
        "<style>\n",
        ".rendered_html {\n",
        "    font-family: Georgia, serif;\n",
        "    font-size: 130%;\n",
        "    line-height: 1.5;\n",
        "}\n",
        "\n",
        ".input {\n",
        "    width: 930px;\n",
        "}\n",
        "\n",
        ".inner_cell {\n",
        "    width: 800px;\n",
        "}\n",
        "\n",
        ".code_cell {\n",
        "    width: 800px;\n",
        "}\n",
        "\n",
        ".CodeMirror-sizer {\n",
        "}\n",
        "\n",
        "hr {\n",
        "    border: 1px solid #DDD;\n",
        "}\n",
        "\n",
        ".rendered_html p {\n",
        "   text-align: left;\n",
        "}\n",
        "\n",
        ".rendered_html h1 {\n",
        "    margin: 0.25em 0em 0.5em;\n",
        "    font-family: sans-serif;\n",
        "    color: #015C9C;\n",
        "    text-align: center;\n",
        "    line-height: 1.2;\n",
        "    page-break-before: always;\n",
        "}\n",
        "\n",
        ".rendered_html h2 {\n",
        "    margin: 1.1em 0em 0.5em;\n",
        "    font-family: sans-serif;\n",
        "    color: #26465D;\n",
        "    line-height: 1.2;\n",
        "}\n",
        "\n",
        ".rendered_html h3 {\n",
        "    font-family: sans-serif;\n",
        "    margin: 1.1em 0em 0.5em;\n",
        "    color: #002845;\n",
        "    line-height: 1.2;\n",
        "}\n",
        "\n",
        ".rendered_html li {\n",
        "    line-height: 1.5;\n",
        "}\n",
        "\n",
        ".CodeMirror-lines {\n",
        "    font-size: 110%;\n",
        "    line-height: 1.4em;\n",
        "    font-family: DejaVu Sans Mono, Consolas, Ubuntu, monospace;\n",
        "}\n",
        "\n",
        "h1.bigtitle {\n",
        "    margin: 4cm 1cm 4cm 1cm;\n",
        "    font-size: 300%;\n",
        "}\n",
        "\n",
        "h3.point {\n",
        "    font-size: 200%;\n",
        "    text-align: center;\n",
        "    margin: 2em 0em 2em 0em;\n",
        "    #26465D\n",
        "}\n",
        "\n",
        ".logo {\n",
        "    margin: 20px 0 20px 0;\n",
        "}\n",
        "\n",
        "a.anchor-link {\n",
        "    display: none;\n",
        "}\n",
        "\n",
        "h1.title {\n",
        "    font-size: 250%;\n",
        "}\n",
        "\n",
        ".exercize {\n",
        "    color: #738;\n",
        "}\n",
        "\n",
        "h2 .exercize {\n",
        "    font-style: italic;\n",
        "}\n",
        "\n",
        "</style>"
       ],
       "metadata": {},
       "output_type": "display_data",
       "text": [
        "<IPython.core.display.HTML at 0x10445e5d0>"
       ]
      }
     ],
     "prompt_number": 1
    }
   ],
   "metadata": {}
  }
 ]
}