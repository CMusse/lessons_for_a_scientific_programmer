{
 "metadata": {
  "name": "",
  "signature": "sha256:593eab0a2fc1fe3ea00ac3957807e7aa93a38fcc820966fbb242ab054c35f08a"
 },
 "nbformat": 3,
 "nbformat_minor": 0,
 "worksheets": [
  {
   "cells": [
    {
     "cell_type": "markdown",
     "metadata": {},
     "source": [
      "Reusing and packaging your work\n",
      "================================\n",
      "\n",
      "Re-using prior work is an important part of maintaining a solid and reliable code-base by reducing redundancy/duplication and often overall complexity.\n",
      "\n",
      "The most powerful mechanism for re-using existing code, short of having one monolithic module, is to use Python's import machinery.\n",
      "\n",
      "We can import any module (e.g. just a ``.py`` file) if it's parent directory is on our ``sys.path`` (also controlled with the PYTHONPATH env variable, amongst other things). By default, the ``CWD`` is on the sys.path, therefore we can automatically import our ``.py`` files (by their filename minus the ``.py``) if we are developing a module in the same directory as our previous work.\n",
      "\n",
      "Often this is a good enough solution for our ad-hoc work, but sometimes it is valuable to bundle up our work into a convenient *package* (which is just a collection of modules). This is especially true if we are writing something broadly useful that other people (including ourselves) may wish to make use of as a user.\n",
      "\n",
      "The simplest package is just a single module (``.py`` file), but as our package develops it can quickly grow-out of the single file model. To implement a multi-module package, we simply create a folder with a ``__init__.py`` module within. Again, assuming the package (or precisely the parent folder of our package folder) is on the sys.path, we can simply import our functionality with ``import my_package``.\n",
      "\n",
      "The python setuptools documentation at https://pythonhosted.org/setuptools/setuptools.html#basic-use covers a lot of detail about making your package installable using a ``setup.py``. However, the simplest setup.py looks like:\n",
      "\n",
      "```\n",
      "from setuptools import setup\n",
      "\n",
      "setup(\n",
      "    name = \"DistributionName\",\n",
      "    version = \"0.1\",\n",
      "    packages = ['package_name'],\n",
      ")\n",
      "```\n",
      "\n",
      "**Exercise:** \n",
      "1. Create a branch called \"my_importable_package\" and check it out.\n",
      "2. Make a folder called ``my_package`` (the package name), within it put an empty ``__init__.py`` file.\n",
      "3. Create a ``setup.py`` next to the ``my_package`` folder with appropriate information (Distribution name: MyDistribution; packages: my_package;).\n",
      "4. Install ``my_package`` in developer mode by running ``python setup.py develop --user``.\n",
      "5. From any directory we should now be able to run ``python -c \"import my_package; print my_package.__file__\"\n",
      "6. Add a simple function to the ``__init__.py`` file in my_package (a function which prints \"hello world\" is fine). Assert that when ``my_package`` is imported, we can access this function as ``my_package.my_function``.\n",
      "7. (Extension) Add \"my_package\" and all associated files to the staging area, commit, and then push to your fork."
     ]
    }
   ],
   "metadata": {}
  }
 ]
}