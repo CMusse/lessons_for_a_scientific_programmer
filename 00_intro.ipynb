{
 "metadata": {
  "name": "",
  "signature": "sha256:69cbdce72afb773e8c9cf9e4cb208cb1706e3e425840edf09a4c9c94a16b3801"
 },
 "nbformat": 3,
 "nbformat_minor": 0,
 "worksheets": [
  {
   "cells": [
    {
     "cell_type": "markdown",
     "metadata": {},
     "source": [
      "# Euroscipy'14 tutorial\n",
      "\n",
      "Aim:\n",
      "\n",
      "    Build documentation listing the attendees of this tutorial...\n",
      "\n",
      "    Learning about useful technology along the way."
     ]
    },
    {
     "cell_type": "markdown",
     "metadata": {},
     "source": [
      "## Things you'll need:"
     ]
    },
    {
     "cell_type": "markdown",
     "metadata": {},
     "source": [
      "IPython notebook running with the notebooks found at https://github.com/pelson/euroscipy2014_tutorial. A\n",
      "\n",
      "    git clone https://github.com/pelson/euroscipy2014_tutorial\n",
      "\n",
      "where the IPython notebook was started should suffice."
     ]
    },
    {
     "cell_type": "code",
     "collapsed": false,
     "input": [
      "import IPython\n",
      "import sphinx\n",
      "import yaml"
     ],
     "language": "python",
     "metadata": {},
     "outputs": []
    },
    {
     "cell_type": "markdown",
     "metadata": {},
     "source": [
      "A github account, with git [configured correctly for github](https://help.github.com/articles/set-up-git)."
     ]
    },
    {
     "cell_type": "code",
     "collapsed": false,
     "input": [
      "!git config --global --get user.name\n",
      "!git config --global --get user.email"
     ],
     "language": "python",
     "metadata": {},
     "outputs": []
    }
   ],
   "metadata": {}
  }
 ]
}