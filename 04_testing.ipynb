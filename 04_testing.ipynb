{
 "metadata": {
  "name": "",
  "signature": "sha256:e1fe69100faeb12697ab7f959935d305b5780075a8fa0e1e90057c174986eaed"
 },
 "nbformat": 3,
 "nbformat_minor": 0,
 "worksheets": [
  {
   "cells": [
    {
     "cell_type": "markdown",
     "metadata": {},
     "source": [
      "Testing your code\n",
      "=================\n",
      "\n",
      "Everybody writes tests when developing code, it is common for somebody just begginning with writing software to write their tests in an ad-hoc way, and once the specific functionality they have has been completed, they delete their test.\n",
      "\n",
      "The problem with this is that if we ever want to make further changes to the functionality, we need to recreate the test(s), or risk breaking functionality.\n",
      "\n",
      "Scientists are often the worst culprits of this practice, and yet it is scientists who stake their reputation on the results of these codes.\n",
      "\n",
      "A quick read of [Top 12 Reasons to Write Unit Tests by Eric M. Burke and Brian M. Coyner](http://www.onjava.com/pub/a/onjava/2003/04/02/javaxpckbk.html) should be enough to convince you that writing tests is not only plays a part in making you more effective as a coder, but that it is fundamental to having confidence in the results that our software produce."
     ]
    },
    {
     "cell_type": "markdown",
     "metadata": {},
     "source": [
      "## A basic test\n",
      "\n",
      "Python's unittest module provides all of the framework needed to write simple unit tests of our code's building blocks.\n",
      "\n",
      "There is a [good introduction available](http://docs.python-guide.org/en/latest/writing/tests/) on the python-guide website. Some useful suggestions from the site include:\n",
      "\n",
      " * A testing unit should focus on one tiny bit of functionality and prove it correct.\n",
      " \n",
      " * Each test unit must be fully independent. Each of them must be able to run alone, and also within the test suite, regardless of the order they are called. The implication of this rule is that each test must be loaded with a fresh dataset and may have to do some cleanup afterwards. This is usually handled by setUp() and tearDown() methods.\n",
      " \n",
      " * Try hard to make tests that run fast. If one single test needs more than a few millisecond to run, development will be slowed down or the tests will not be run as often as desirable. In some cases, tests can\u2019t be fast because they need a complex data structure to work on, and this data structure must be loaded every time the test runs. Keep these heavier tests in a separate test suite that is run by some scheduled task, and run all other tests as often as needed.\n",
      "\n",
      " * Learn your tools and learn how to run a single test or a test case. Then, when developing a function inside a module, run this function\u2019s tests very often, ideally automatically when you save the code.\n",
      "\n",
      " * Always run the full test suite before a coding session, and run it again after. This will give you more confidence that you did not break anything in the rest of the code.\n",
      "\n",
      " * The first step when you are debugging your code is to write a new test pinpointing the bug. While it is not always possible to do, those bug catching tests are among the most valuable pieces of code in your project.\n",
      "\n",
      " * Use long and descriptive names for testing functions. The style guide here is slightly different than that of running code, where short names are often preferred. The reason is testing functions are never called explicitly. square() or even sqr() is ok in running code, but in testing code you would have names such as test_square_of_number_2(), test_square_negative_number(). These function names are displayed when a test fails, and should be as descriptive as possible.\n",
      "\n",
      " * When something goes wrong or has to be changed, and if your code has a good set of tests, you or other maintainers will rely largely on the testing suite to fix the problem or modify a given behavior. Therefore the testing code will be read as much as or even more than the running code. A unit test whose purpose is unclear is not very helpful is this case."
     ]
    },
    {
     "cell_type": "markdown",
     "metadata": {},
     "source": [
      "A simple function and associated test can be defined in just a few lines using Python's unittest module:"
     ]
    },
    {
     "cell_type": "code",
     "collapsed": false,
     "input": [
      "%%script python\n",
      "\n",
      "import unittest\n",
      "\n",
      "\n",
      "def my_function(x):\n",
      "    return x + 1\n",
      "\n",
      "\n",
      "class Test_my_function(unittest.TestCase):\n",
      "    def test_plus_one(self):\n",
      "        self.assertEqual(my_function(3), 4)\n",
      "\n",
      "        \n",
      "if __name__ == '__main__':\n",
      "    unittest.main(verbosity=2)"
     ],
     "language": "python",
     "metadata": {},
     "outputs": []
    },
    {
     "cell_type": "markdown",
     "metadata": {},
     "source": [
      "## Multiple units in a test case\n",
      "\n",
      "Most of the time though, our functions are more complex than ``my_function``, with different code paths depending on input and state, and sometimes depending on contents on disk.\n",
      "\n",
      "In these cases, we try to break the TestCase subclass into the objects or functions that we wish to test, and have multiple testing methods within the case to cover all of the permutations:"
     ]
    },
    {
     "cell_type": "code",
     "collapsed": false,
     "input": [
      "%%script python\n",
      "\n",
      "import unittest\n",
      "\n",
      "\n",
      "def ordinal(number):\n",
      "    number = int(number)\n",
      "    endings = {1: 'st', 2: 'nd', 3: 'rd'}\n",
      "    if 10 <= number % 100 < 20:\n",
      "        ending = 'th'\n",
      "    else:\n",
      "        ending = endings.get(number % 10, 'th')\n",
      "    return ending\n",
      "\n",
      "\n",
      "class Test_ordinal(unittest.TestCase):\n",
      "    def test_0(self):\n",
      "        self.assertEqual(ordinal(0), 'th')\n",
      "\n",
      "    def test_1(self):\n",
      "        self.assertEqual(ordinal(1), 'st')\n",
      "\n",
      "    def test_2(self):\n",
      "        self.assertEqual(ordinal(2), 'nd')\n",
      "\n",
      "    def test_3(self):\n",
      "        self.assertEqual(ordinal(3), 'rd')\n",
      "\n",
      "    def test_4(self):\n",
      "        self.assertEqual(ordinal(4), 'th')\n",
      "\n",
      "    def test_11(self):\n",
      "        self.assertEqual(ordinal(11), 'th')\n",
      "\n",
      "    def test_20(self):\n",
      "        self.assertEqual(ordinal(20), 'th')\n",
      "\n",
      "    def test_21(self):\n",
      "        self.assertEqual(ordinal(21), 'st')\n",
      "\n",
      "    def test_111(self):\n",
      "        self.assertEqual(ordinal(111), 'th')\n",
      "\n",
      "    def test_121(self):\n",
      "        self.assertEqual(ordinal(121), 'st')\n",
      "    \n",
      "    def test_str(self):\n",
      "        self.assertEqual(ordinal('2'), 'nd')\n",
      "    \n",
      "    def test_non_castable(self):\n",
      "        with self.assertRaises(ValueError):\n",
      "            ordinal('not a number')\n",
      "\n",
      "\n",
      "if __name__ == '__main__':\n",
      "    unittest.main(verbosity=2)"
     ],
     "language": "python",
     "metadata": {},
     "outputs": []
    },
    {
     "cell_type": "markdown",
     "metadata": {},
     "source": [
      "# Testing our classroom functions\n",
      "\n",
      "The functions we defined previously have been put together into a package in the branch at ``upstream/classroom_module_template``.\n",
      "\n",
      "Let's create a new branch called ``my_classroom`` based on this."
     ]
    },
    {
     "cell_type": "code",
     "collapsed": false,
     "input": [
      "%cd tutorial_classroom\n",
      "!git branch my_classroom upstream/classroom_module_template\n",
      "!git checkout my_classroom"
     ],
     "language": "python",
     "metadata": {},
     "outputs": []
    },
    {
     "cell_type": "code",
     "collapsed": false,
     "input": [
      "!git status"
     ],
     "language": "python",
     "metadata": {},
     "outputs": []
    },
    {
     "cell_type": "markdown",
     "metadata": {},
     "source": [
      "Explore this branch, familiarising yourself with its contents.\n",
      "\n",
      "Notice that there is a ``setup.py``, and a directory called ``classroom``:"
     ]
    },
    {
     "cell_type": "code",
     "collapsed": false,
     "input": [
      "%ls"
     ],
     "language": "python",
     "metadata": {},
     "outputs": []
    },
    {
     "cell_type": "markdown",
     "metadata": {},
     "source": [
      "Inside classroom there is a ``__init__.py`` and a tests folder and that ``__init__.py`` implements the functions we developed earlier:"
     ]
    },
    {
     "cell_type": "code",
     "collapsed": false,
     "input": [
      "%ls classroom\n",
      "%pycat classroom/__init__.py"
     ],
     "language": "python",
     "metadata": {},
     "outputs": []
    },
    {
     "cell_type": "markdown",
     "metadata": {},
     "source": [
      "Finally there is another sub-package in our classroom package called tests, and within there, a mirror ``classroom`` sub package:"
     ]
    },
    {
     "cell_type": "code",
     "collapsed": false,
     "input": [
      "%ls classroom/tests\n",
      "%ls classroom/tests/classroom"
     ],
     "language": "python",
     "metadata": {},
     "outputs": []
    },
    {
     "cell_type": "markdown",
     "metadata": {},
     "source": [
      "Install the classroom module as a developer:"
     ]
    },
    {
     "cell_type": "code",
     "collapsed": false,
     "input": [
      "!python setup.py develop --user"
     ],
     "language": "python",
     "metadata": {},
     "outputs": []
    },
    {
     "cell_type": "markdown",
     "metadata": {},
     "source": [
      "We should now be able to import the classroom module, and run the test:"
     ]
    },
    {
     "cell_type": "code",
     "collapsed": false,
     "input": [
      "import classroom\n",
      "\n",
      "!python -m unittest --verbose classroom.tests.classroom.test_load_classroom"
     ],
     "language": "python",
     "metadata": {},
     "outputs": []
    },
    {
     "cell_type": "markdown",
     "metadata": {},
     "source": [
      "**Exercise:** Create a new ``classroom/tests/classroom/test_*.py`` file (with tests) for each of the functions we have defined in classroom.\n",
      "Because all of the functions take classroom as arguments, there should be no need to use sample data from disk to write these tests. "
     ]
    },
    {
     "cell_type": "markdown",
     "metadata": {},
     "source": [
      "Note, if you ever need to assert something about a numpy array, be aware that ``numpy.testing`` defines most of the common assertions, including equality as well as approximate equality for floating point comparisson."
     ]
    }
   ],
   "metadata": {}
  }
 ]
}