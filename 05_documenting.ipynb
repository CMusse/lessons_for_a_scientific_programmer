{
 "metadata": {
  "name": "",
  "signature": "sha256:2035c97ec1c0941d6605e4abe549e779beaab2655ab5c49bd2e812c9d28db93b"
 },
 "nbformat": 3,
 "nbformat_minor": 0,
 "worksheets": [
  {
   "cells": [
    {
     "cell_type": "markdown",
     "metadata": {},
     "source": [
      "Documenting\n",
      "===========\n",
      "\n",
      "If we want our package to be used by others, or simply wish to go back to our code after a few days,\n",
      "we really need to have some reasonable documentation.\n",
      "\n",
      "# Docstrings\n",
      "\n",
      "Python encourages the use of in-situ documentation in the form of docstrings. Docstrings are simply standalone strings after the definition of functions/classes/etc.:"
     ]
    },
    {
     "cell_type": "code",
     "collapsed": false,
     "input": [
      "def add(a, b):\n",
      "    \"\"\"This is my addition function which adds two numbers together.\"\"\"\n",
      "    return a + b"
     ],
     "language": "python",
     "metadata": {},
     "outputs": []
    },
    {
     "cell_type": "markdown",
     "metadata": {},
     "source": [
      "Python's built-in ``help`` function can then be used to display the help:"
     ]
    },
    {
     "cell_type": "code",
     "collapsed": false,
     "input": [
      "help(add)"
     ],
     "language": "python",
     "metadata": {},
     "outputs": []
    },
    {
     "cell_type": "markdown",
     "metadata": {},
     "source": [
      "Similarly, IPython can also be used to view docstrings:"
     ]
    },
    {
     "cell_type": "code",
     "collapsed": false,
     "input": [
      "add?"
     ],
     "language": "python",
     "metadata": {},
     "outputs": []
    },
    {
     "cell_type": "markdown",
     "metadata": {},
     "source": [
      "## Writing good docstrings\n",
      "\n",
      "Writing good documentation takes practice and time, but done well it can speed up development and make your code more maintainable.\n",
      "\n",
      "[numpydoc](https://github.com/numpy/numpy/blob/master/doc/HOWTO_DOCUMENT.rst.txt) is a set of recommendations on how to write and layout your docstrings such that they are consitent and easily understandable to fellow scientific Python users. Our ``add`` function's docstring, when following the numpydoc guidelines, might looks something like:"
     ]
    },
    {
     "cell_type": "code",
     "collapsed": false,
     "input": [
      "def add(a, b):\n",
      "    \"\"\"\n",
      "    Add two values together.\n",
      "\n",
      "    Parameters\n",
      "    ----------\n",
      "    a : object\n",
      "        The left hand of the addition.\n",
      "    b : object\n",
      "        The right hand of the addition.\n",
      "    \n",
      "    Returns\n",
      "    -------\n",
      "    result : object\n",
      "        The result of doing ``a + b``.\n",
      "\n",
      "    Examples\n",
      "    --------\n",
      "    >>> add(0.5, 1.5)\n",
      "    2.0\n",
      "    \"\"\"\n",
      "    return a + b"
     ],
     "language": "python",
     "metadata": {},
     "outputs": []
    },
    {
     "cell_type": "markdown",
     "metadata": {},
     "source": [
      "## Using sphinx to generate web based documentation\n",
      "\n",
      "Sphinx is a Python pacakge to generate web pages (as well as PDF & more) for your documentation. Python's own documentation is generated with sphinx, with the docstrings of functions/classes/etc. extracted directly from the source to avoid duplicating the information.\n",
      "\n",
      "We can create basic sphinx documentation very quickly with the ``sphinx-quickstart`` command line tool.\n",
      "\n",
      "Let's do that by going to ``tutorial_classroom`` and making the root directory \"docs\":\n",
      "\n",
      "    cd tutorial_classroom\n",
      "    sphinx-quickstart docs\n",
      "   \n",
      "To create the documentation, let's run ``make html`` from within the docs:"
     ]
    },
    {
     "cell_type": "code",
     "collapsed": false,
     "input": [
      "%cd tutorial_classroom\n",
      "%cd docs"
     ],
     "language": "python",
     "metadata": {},
     "outputs": []
    },
    {
     "cell_type": "code",
     "collapsed": false,
     "input": [
      "!make html\n",
      "!open build/html/index.html"
     ],
     "language": "python",
     "metadata": {},
     "outputs": []
    },
    {
     "cell_type": "markdown",
     "metadata": {},
     "source": [
      "Notice how a config file has been created in source/conf.py:"
     ]
    },
    {
     "cell_type": "code",
     "collapsed": false,
     "input": [
      "%ls source"
     ],
     "language": "python",
     "metadata": {},
     "outputs": []
    },
    {
     "cell_type": "markdown",
     "metadata": {},
     "source": [
      "This config file is were details about our project are stored - things like project name, version, author etc. as well as information about the layout and style of the documentation itself.\n",
      "\n",
      "Let's update the theme of the documentation by changing the config file's ``html_theme`` value from ``default`` to ``sphinxdoc``, and re-build the documentation to see the effect."
     ]
    },
    {
     "cell_type": "markdown",
     "metadata": {},
     "source": [
      "You will notice that currently we do not have any documentation for the functions in classroom in our built docs. This is because sphinx has been designed for a semi-manual documentation approach. To automatically pull in the documentation for our classroom module, we should enable the ``'sphinx.ext.autodoc'`` extension in the ``conf.py`` configuration, and add\n",
      "\n",
      "    .. automodule:: classroom\n",
      "        :members:\n",
      "        :undoc-members:\n",
      "    \n",
      "To the restructured text in ``index.rst``. This tells sphinx to pull in all of the documentation from the classroom module, including functions which do not have docstrings defined. More information about the [automodule (and other ``auto*`` directives) TODO]() is available on the sphinx documentation.\n",
      "\n",
      "\n",
      "Let's create a new ``euroscipy_2014.rst`` file with for this tutorial, and link to it from the TOC (table of contents) of ``index.rst``."
     ]
    }
   ],
   "metadata": {}
  }
 ]
}